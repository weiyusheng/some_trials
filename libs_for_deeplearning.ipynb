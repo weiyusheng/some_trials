{
 "cells": [
  {
   "cell_type": "markdown",
   "metadata": {},
   "source": [
    "# 记录一些看到的深度学习有用的或有趣的库\n",
    "\n",
    "不分先后顺序"
   ]
  },
  {
   "cell_type": "markdown",
   "metadata": {},
   "source": [
    "## torchtitan \n",
    "[https://github.com/pytorch/torchtitan]\n",
    "\n",
    "torch官方推出的大模型训练框架，主要是接上了tensorboard \\\n",
    "作者说不打算发展相关社区，但是出于对torch的尊重还是要关注一下\n",
    "\n",
    "## megalodon\n",
    "[https://github.com/XuezheMax/megalodon]\n",
    "\n",
    "一个meta的无限长输入token的模型架构 \\\n",
    "主要原理是指数平均滤波 \\\n",
    "优势是无限长输入，同时性能基本不降 \\\n",
    "关注了几天还没开放参数\n",
    "\n",
    "## AI-System\n",
    "[https://github.com/microsoft/AI-System]\n",
    "\n",
    "老东西，基础概念涉及方面较全，个人当术语词典用的\n",
    "\n",
    "## text-embeddings-inference\n",
    "[https://github.com/huggingface/text-embeddings-inference]\n",
    "\n",
    "天天盯着huggingface偷东西（不是 \\\n",
    "rust写的文本嵌入推理服务器 \\\n",
    "下载下来用Dockerfile-cuda-all编译一个docker就能用 \\\n",
    "正常用法和text-generation-inference差不多 \\\n",
    "flash attention说是有bug用不了\n",
    "\n",
    "## colbert\n",
    "[https://github.com/stanford-futuredata/ColBERT]\n",
    "\n",
    "文本检索的模型,注意不是语义检索 \\\n",
    "我自己测试的时候cpu推理那边出现了大量问题，所以建议用GPU\n",
    "\n",
    "## faiss\n",
    "[https://github.com/facebookresearch/faiss]\n",
    "\n",
    "向量检索用的算法库 \\\n",
    "中文文档[https://github.com/liqima/faiss_note]\n",
    "\n",
    "## pymc\n",
    "[https://github.com/pymc-devs/pymc]\n",
    "\n",
    "Monte Carlo 蒙特卡洛采样的库\n",
    "\n",
    "## pypop\n",
    "[https://github.com/Evolutionary-Intelligence/pypop]\n",
    "\n",
    "黑盒优化相关的库 \\\n",
    "大量论文警告"
   ]
  }
 ],
 "metadata": {
  "language_info": {
   "name": "python"
  }
 },
 "nbformat": 4,
 "nbformat_minor": 2
}
