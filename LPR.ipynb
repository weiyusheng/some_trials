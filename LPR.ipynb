{
 "cells": [
  {
   "cell_type": "markdown",
   "metadata": {},
   "source": [
    "# 算一算五年期LPR下调造成的影响"
   ]
  },
  {
   "cell_type": "code",
   "execution_count": null,
   "metadata": {},
   "outputs": [],
   "source": [
    "a = 4.55\n",
    "# 房产长期贷款利率最低为五年期LPR+加点，加点各银行不太一样，随便取了个值\n",
    "x0 = 100 * 10000 # 借一百万\n",
    "t = 12 * 30 # 12月 30年\n",
    "\n",
    "y1 = a * x0 * (1 + a / 1200) ** t / (1200 * ((1 + a / 1200) ** t - 1))\n",
    "print(y1) # 每月还款\n",
    "\n",
    "a = 4.80 # 下调前\n",
    "x0 = 100 * 10000\n",
    "t = 12 * 30\n",
    "\n",
    "y = a * x0 * (1 + a / 1200) ** t / (1200 * ((1 + a / 1200) ** t - 1))\n",
    "print(y) # 每月还款\n",
    "\n",
    "print((y - y1) * t) # 总还款差\n",
    "print(y1*t) # 总还款"
   ]
  },
  {
   "cell_type": "markdown",
   "metadata": {
    "vscode": {
     "languageId": "bat"
    }
   },
   "source": [
    "# 有没有人考虑过，为什么月利率是年利率/12，这计算方式明显对借出方有益"
   ]
  },
  {
   "cell_type": "code",
   "execution_count": null,
   "metadata": {},
   "outputs": [],
   "source": [
    "def bi_search(f, start, end, target, dt = 1e-10): # 二分查找\n",
    "    mid = (start + end) / 2\n",
    "    fs = f(start)\n",
    "    fe = f(end)\n",
    "    if fe - fs < dt:\n",
    "        return mid\n",
    "    fm = f(mid)\n",
    "    if fm > target:\n",
    "        return bi_search(f, start, mid, target)\n",
    "    else:\n",
    "        return bi_search(f, mid, end, target)\n",
    "\n",
    "\n",
    "from functools import lru_cache\n",
    "\n",
    "@lru_cache(1024 * 1024)\n",
    "def cal(x, depth = 12):\n",
    "    if depth == 1:\n",
    "        return 1 + x\n",
    "    return cal(x, int(depth / 2)) * cal(x, depth - int(depth / 2)) # (1+x)**12\n",
    "\n",
    "m1 = bi_search(cal, 0, 1, 4.55 / 100 + 1)\n",
    "m2 = bi_search(cal, 0, 1, 4.80 / 100 + 1)\n",
    "print(m1, m2) # 计算年化利率为y的月利率x"
   ]
  },
  {
   "cell_type": "code",
   "execution_count": null,
   "metadata": {},
   "outputs": [],
   "source": [
    "a = m1\n",
    "x0 = 100 * 10000\n",
    "t = 12 * 30\n",
    "\n",
    "y1 = a * x0 * (1 + a) ** t / (((1 + a) ** t - 1))\n",
    "print(y1) # 下调后每月还款\n",
    "\n",
    "a = m2\n",
    "x0 = 100 * 10000\n",
    "t = 12 * 30\n",
    "\n",
    "y = a * x0 * (1 + a) ** t / (((1 + a) ** t - 1))\n",
    "print(y) # 下调前每月还款\n",
    "\n",
    "print((y - y1) * t) # 总差额\n",
    "print(y1*t) # 总还款\n",
    "# 按上面月利率计算出的四个值"
   ]
  },
  {
   "cell_type": "code",
   "execution_count": null,
   "metadata": {},
   "outputs": [],
   "source": [
    "a = 4.55\n",
    "x0 = 100 * 10000\n",
    "t = 30\n",
    "\n",
    "y1 = a * x0 * (1 + a / 100) ** t / (100 * ((1 + a / 100) ** t - 1))\n",
    "print(y1) # 下调后每月还款\n",
    "\n",
    "a = 4.80\n",
    "x0 = 100 * 10000\n",
    "t = 30\n",
    "\n",
    "y = a * x0 * (1 + a / 100) ** t / (100 * ((1 + a / 100) ** t - 1))\n",
    "print(y) # 下调前每月还款\n",
    "\n",
    "print((y - y1) * t) # 总差额\n",
    "print(y1*t) # 总还款\n",
    "# 按照年还款方式计算"
   ]
  },
  {
   "cell_type": "markdown",
   "metadata": {},
   "source": [
    "以上均为等额本息还款计算结果"
   ]
  }
 ],
 "metadata": {
  "language_info": {
   "name": "python"
  }
 },
 "nbformat": 4,
 "nbformat_minor": 2
}
