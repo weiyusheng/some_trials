{
 "cells": [
  {
   "cell_type": "markdown",
   "metadata": {},
   "source": [
    "# 十杰不出编的概率计算"
   ]
  },
  {
   "cell_type": "markdown",
   "metadata": {},
   "source": [
    "## 截至1月5日网络存在的十杰编号卡（其中二妹6号编无人见过实体图，倾向于认为实际未出。）\n",
    "\n",
    "可能存在统计缺漏，但按当前信息，缺漏不存在于十杰中的23478，补齐缺漏仅会增加厂家存在概率问题的概率。\n",
    "\n",
    "![](code.jpg)\n"
   ]
  },
  {
   "cell_type": "markdown",
   "metadata": {},
   "source": [
    "## 零假设\n",
    "\n",
    "截至1月5日发货并被开箱的所有sve简中第三弹《天星神话&永恒绝杰》（对应日文4、5弹），其内部封装的十杰编号卡，不存在概率问题。\n",
    "\n",
    "概率没有问题的定义：\n",
    "\n",
    "1. 所有十杰的所有编号，均可以在截至1月5日发出的所有货源中，以每箱为单位等概率存在或不存在（简单解释就是允许一些卡不在第一批放出，但这些卡应当以无关种类的编号的随机方式决定）。\n",
    "\n",
    "2. 所有十杰的所有编号，均可以在所有sve销售的所有地点（包括地区和店家），以每箱为单位等概率存在或不存在（要求厂家在向各地发货时充分洗混，由于不存在各店各地出货的数据，所以此假设无法判断，按照奥卡姆剃刀原则，认为不存在问题）。\n",
    "\n",
    "下面需要验证的子假设：\n",
    "\n",
    "1. 所有十杰以每箱为单位等概率存在或不存在\n",
    "\n",
    "2. 所有编号以每箱为单位等概率存在或不存在\n",
    "\n",
    "3. 所有正编十杰以每箱为单位等概率存在或不存在\n",
    "\n",
    "易证，当3个子假设均成立时，原假设成立，如果存在不成立的子假设，则原假设不成立。"
   ]
  },
  {
   "cell_type": "markdown",
   "metadata": {},
   "source": [
    "## 假设不成立的后果\n",
    "\n",
    "厂商在宣传时，仅使用了“以极低概率开出【灾祸十杰】卡牌的SP版本，每种仅生产10张，且每张卡都带有唯一的限定烫金编号！”（影之诗进化对决，bilibili，11月22日 12:30 动态）的宣传语，并未在其他渠道对其进行此以上的补充说明（如某时间前无法开出特定卡牌种类等补充说明）。按照此描述，消费者自然而然会认为上述零假设成立，并在此前提下大量（超出正常进行游戏所必须的购买量）购买此卡包，希望能够得到某种卡牌（不同种类不具有“可相互替代”的特点）的某些编号（不同编号 部分 不具有“可相互替代”的特点）。假如原假设不成立，则厂商构成虚假宣传。\n",
    "\n",
    "消费者可以根据《中华人民共和国消费者权益保护法》第四十五条的规定，要求经营者进行民事赔偿。如果经营者提供商品或者服务有欺诈行为，应当按照消费者的要求增加赔偿其受到的损失，增加赔偿的金额为消费者购买商品的价款或者接受服务的费用的三倍；增加赔偿的金额不足五百元的，为五百元。\n",
    "\n",
    "同时根据《中华人民共和国消费者权益保护法》第五十六条，经营者对商品或者服务作虚假或者引人误解的宣传的，将受到相应的行政处罚，具体处罚措施包括：\n",
    "\n",
    "1. 警告：对于情节较轻的虚假宣传行为，有关部门可以给予警告处罚，要求经营者立即停止违法行为并限期改正。\n",
    "\n",
    "2. 没收违法所得：如果经营者通过虚假宣传获得了违法所得，有关部门将予以没收，以消除其违法所得的经济利益。\n",
    "\n",
    "3. 罚款：根据情节的严重程度，有关部门可以对经营者处以违法所得一倍以上十倍以下的罚款；如果没有违法所得，则处以五十万元以下的罚款。\n",
    "\n",
    "4. 责令停业整顿、吊销营业执照：对于情节严重的虚假宣传行为，有关部门可以责令经营者停业整顿，甚至吊销其营业执照，以剥夺其继续从事经营活动的资格。"
   ]
  },
  {
   "cell_type": "markdown",
   "metadata": {
    "vscode": {
     "languageId": "plaintext"
    }
   },
   "source": [
    "## 主观先看一下\n",
    "\n",
    "23478都没出包有问题的\n",
    "\n",
    "编号除了正编没有理由做手脚，图上编号大多也是分布在3个4个，符合27/100的比率（稍微吐槽一下，编号那么集中感觉洗混确实没做好）\n",
    "\n",
    "正编2/27，基本符合10/100\n",
    "\n",
    "接下来的重点也是算一下有一半种类一个都没出的概率"
   ]
  },
  {
   "cell_type": "code",
   "execution_count": 14,
   "metadata": {},
   "outputs": [
    {
     "name": "stdout",
     "output_type": "stream",
     "text": [
      "(10, 10)\n",
      "27\n"
     ]
    }
   ],
   "source": [
    "import numpy as np\n",
    "\n",
    "ori_data = np.array([[0,0,1,1,1,1,1,1,0,0],\n",
    "                        [0,0,0,0,0,0,0,0,0,0],\n",
    "                        [0,0,0,0,0,0,0,0,0,0],\n",
    "                        [0,0,0,0,0,0,0,0,0,0],\n",
    "                        [1,1,0,1,1,0,0,0,0,0],\n",
    "                        [0,0,0,1,1,0,0,1,1,1],\n",
    "                        [0,0,0,0,0,0,0,0,0,0],\n",
    "                        [0,0,0,0,0,0,0,0,0,0],\n",
    "                        [0,1,1,0,1,1,1,1,0,1],\n",
    "                        [0,1,1,0,0,1,0,0,1,1]])\n",
    "\n",
    "print(ori_data.shape)\n",
    "print(ori_data.sum())"
   ]
  },
  {
   "cell_type": "markdown",
   "metadata": {},
   "source": [
    "## 计算总量（10*10）个，按（x，y）编号，按照均匀分布，无放回采样27个，如果采样到，f（x，y）记为1，否则为0，存在一半以上的x，对任意y，f（x，y）=0的概率"
   ]
  },
  {
   "cell_type": "code",
   "execution_count": 15,
   "metadata": {},
   "outputs": [
    {
     "name": "stdout",
     "output_type": "stream",
     "text": [
      "3.5951433267065635e-08\n"
     ]
    }
   ],
   "source": [
    "def combination(n, k):\n",
    "    if 0 <= k <= n:\n",
    "        return np.math.factorial(n) // (np.math.factorial(k) * np.math.factorial(n-k))\n",
    "    else:\n",
    "        return None\n",
    "\n",
    "# 不计入6号二妹\n",
    "print(((combination(10,0) + combination(10,1) + combination(10,2) + combination(10,3) + combination(10,4) + combination(10,5)) * combination(50,27) )/(combination(100,27)))"
   ]
  },
  {
   "cell_type": "markdown",
   "metadata": {},
   "source": [
    "三千万分之一，可以认为是不可能事件\n",
    "\n",
    "顺带一提，微亡大概是百万分之一，这已经比微亡还小了"
   ]
  },
  {
   "cell_type": "code",
   "execution_count": 16,
   "metadata": {},
   "outputs": [
    {
     "data": {
      "image/png": "[encoded data removed]",
      "text/plain": [
       "<Figure size 640x480 with 1 Axes>"
      ]
     },
     "metadata": {},
     "output_type": "display_data"
    },
    {
     "data": {
      "image/png": "[encoded data removed]",
      "text/plain": [
       "<Figure size 640x480 with 1 Axes>"
      ]
     },
     "metadata": {},
     "output_type": "display_data"
    },
    {
     "data": {
      "image/png": "[encoded data removed]",
      "text/plain": [
       "<Figure size 640x480 with 1 Axes>"
      ]
     },
     "metadata": {},
     "output_type": "display_data"
    },
    {
     "name": "stdout",
     "output_type": "stream",
     "text": [
      "1.3093333183028752\n",
      "0.6733445521354989\n",
      "11.16896453617981\n"
     ]
    }
   ],
   "source": [
    "from matplotlib import pyplot as plt\n",
    "\n",
    "ori_data = ori_data/ori_data.sum()\n",
    "\n",
    "f_data = np.fft.fft2(ori_data)\n",
    "\n",
    "# 频谱\n",
    "# print(f_data)\n",
    "plt.imshow(np.abs(f_data))\n",
    "plt.show()\n",
    "\n",
    "ideal_data = np.ones((10,10))/100\n",
    "f_ideal_data = np.fft.fft2(ideal_data)\n",
    "\n",
    "# 均匀分布的频谱\n",
    "# print(f_ideal_data)\n",
    "plt.imshow(np.abs(f_ideal_data))\n",
    "plt.show()\n",
    "\n",
    "# 归一化求差\n",
    "plt.imshow(np.abs(f_data)/np.max(np.abs(f_data)) - np.abs(f_ideal_data)/np.max(np.abs(f_ideal_data)))\n",
    "plt.show()\n",
    "\n",
    "def kl_div(x, y):\n",
    "    y = np.clip(y, 1e-12, 1-1e-12)\n",
    "    x = np.clip(x, 1e-12, 1-1e-12)\n",
    "    return np.sum(x*np.log(x/y))\n",
    "\n",
    "# 分布差距\n",
    "tem = np.random.rand(10,10) > 0.5\n",
    "tem = tem/tem.sum()\n",
    "print(kl_div(ori_data, ideal_data))\n",
    "print(kl_div(tem, ideal_data))\n",
    "print(kl_div(ori_data, tem))"
   ]
  },
  {
   "cell_type": "markdown",
   "metadata": {},
   "source": [
    "和均匀分布频谱相比，明显原始数据纵向多出了2，8这两个频段\n",
    "\n",
    "横向数据没什么大问题，侧面印证了编号分布是合理的这个主观判断\n",
    "\n",
    "与概率的KL散度是随机采样产生分布与概率分布的KL散度的二倍"
   ]
  }
 ],
 "metadata": {
  "kernelspec": {
   "display_name": "base",
   "language": "python",
   "name": "python3"
  },
  "language_info": {
   "codemirror_mode": {
    "name": "ipython",
    "version": 3
   },
   "file_extension": ".py",
   "mimetype": "text/x-python",
   "name": "python",
   "nbconvert_exporter": "python",
   "pygments_lexer": "ipython3",
   "version": "3.11.5"
  }
 },
 "nbformat": 4,
 "nbformat_minor": 2
}
