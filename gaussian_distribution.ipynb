{
 "cells": [
  {
   "cell_type": "markdown",
   "metadata": {},
   "source": [
    "# 这是一段由三值分布通过中心极限定理采样正态分布的代码"
   ]
  },
  {
   "cell_type": "code",
   "execution_count": null,
   "metadata": {
    "vscode": {
     "languageId": "bat"
    }
   },
   "outputs": [],
   "source": [
    "`pip install numpy matplotlib"
   ]
  },
  {
   "cell_type": "code",
   "execution_count": null,
   "metadata": {},
   "outputs": [],
   "source": [
    "import numpy as np\n",
    "\n",
    "n = 10000 # 分布参量\n",
    "\n",
    "WINDOWSIZE = 1000 # 长度为2*WINDOWSIZE+3\n",
    "\n",
    "ori = np.array([0 for i in range(WINDOWSIZE)] + [1/n/(n-1), 1-2/n/(n-1), 1/n/(n-1)] + [0 for i in range(WINDOWSIZE)]) # 三值分布\n",
    "\n",
    "sigma = []\n",
    "\n",
    "for i in range(1000): # 采样数\n",
    "    ori = np.convolve(ori, ori, 'same') # 卷积\n",
    "    ori = ori/np.sum(ori) # 归一化\n",
    "    sigma.append(np.dot(ori-np.average(ori),ori-np.average(ori))/len(ori)/np.max(ori)/np.max(ori)) # 最大值归一化后方差\n",
    "\n",
    "sigma = np.array(sigma)\n",
    "from matplotlib import pyplot as plt\n",
    "\n",
    "x = np.array([i for i in range(len(ori))])\n",
    "plt.plot(x, ori)\n",
    "plt.show() # 最后的分布\n",
    "\n",
    "x = np.array([i for i in range(len(sigma))])\n",
    "plt.plot(x, sigma)\n",
    "plt.show() # 方差变化曲线"
   ]
  }
 ],
 "metadata": {
  "language_info": {
   "name": "python"
  }
 },
 "nbformat": 4,
 "nbformat_minor": 2
}
