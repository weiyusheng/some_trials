{
 "cells": [
  {
   "cell_type": "markdown",
   "metadata": {},
   "source": [
    "# 谢尔宾斯基分形的绘制"
   ]
  },
  {
   "cell_type": "code",
   "execution_count": null,
   "metadata": {
    "vscode": {
     "languageId": "bat"
    }
   },
   "outputs": [],
   "source": [
    "`pip install numpy matplotlib einops torch"
   ]
  },
  {
   "cell_type": "code",
   "execution_count": null,
   "metadata": {},
   "outputs": [],
   "source": [
    "def get_status_3d(x, y, z, level=3): # 给定一个点，判断是亮的还是暗的，立体\n",
    "    cur_x = x\n",
    "    cur_y = y\n",
    "    cur_z = z\n",
    "    res_x = 0\n",
    "    res_y = 0\n",
    "    res_z = 0\n",
    "    for i in range(level): # 分形阶数\n",
    "        res_x = int(cur_x * 3)\n",
    "        res_y = int(cur_y * 3)\n",
    "        res_z = int(cur_z * 3)\n",
    "        cur_x = cur_x * 3 - res_x\n",
    "        cur_y = cur_y * 3 - res_y\n",
    "        cur_z = cur_z * 3 - res_z\n",
    "        if res_y * res_z == 1:\n",
    "            return False\n",
    "        if res_x * res_z == 1:\n",
    "            return False\n",
    "        if res_x * res_y == 1:\n",
    "            return False\n",
    "    return True\n",
    "\n",
    "fr = 0.1 # 采样率\n",
    "start = 0\n",
    "stop = int(1 / fr)\n",
    "level = 5\n",
    "for x in range(start, stop):\n",
    "    for y in range(start, stop - x):\n",
    "        for z in range(start, stop - x - y):\n",
    "            xx = x * fr\n",
    "            yy = y * fr\n",
    "            zz = z * fr\n",
    "            if get_status_3d(xx, yy, zz, level=level):\n",
    "                print(xx,yy,zz)\n",
    "# 朴素方法"
   ]
  },
  {
   "cell_type": "code",
   "execution_count": null,
   "metadata": {},
   "outputs": [],
   "source": [
    "import numpy as np\n",
    "\n",
    "fr = 0.001\n",
    "start = 0\n",
    "stop = int(1 / fr)\n",
    "level = 5\n",
    "x = np.arange(stop)\n",
    "\n",
    "cur_x = x * fr\n",
    "res_x = None\n",
    "res_xy = 1\n",
    "\n",
    "import matplotlib.pyplot as plt\n",
    "\n",
    "for i in range(level):\n",
    "    res_x = (cur_x * 3).astype(np.int32)\n",
    "    cur_x = cur_x * 3 - res_x\n",
    "\n",
    "    res_xy = ( np.einsum('x,y->xy', res_x, res_x) - 1 ) * res_xy\n",
    "    \n",
    "    res_xy[res_xy != 0] = 1\n",
    "\n",
    "plt.imshow(res_xy)\n",
    "plt.show()\n",
    "# 二维图形的优化算法"
   ]
  },
  {
   "cell_type": "code",
   "execution_count": null,
   "metadata": {},
   "outputs": [],
   "source": [
    "import numpy as np\n",
    "import einops\n",
    "\n",
    "fr = 0.001\n",
    "start = 0\n",
    "stop = int(1 / fr)\n",
    "level = 5\n",
    "x = np.arange(stop)\n",
    "\n",
    "cur_x = x * fr\n",
    "res_x = None\n",
    "res_xyz = 1\n",
    "\n",
    "import matplotlib.pyplot as plt\n",
    "\n",
    "for i in range(level):\n",
    "    res_x = (cur_x * 3).astype(np.int32)\n",
    "    cur_x = cur_x * 3 - res_x\n",
    "\n",
    "    res_x = res_x - 1\n",
    "    res_x[res_x != 0] = 1\n",
    "    res_xy = np.einsum('x,y,z->xyz', res_x, res_x, 1 - res_x)\n",
    "    res_xz = einops.rearrange(res_xy, 'x y z->x z y')\n",
    "    res_yz = einops.rearrange(res_xy, 'x y z->z x y')\n",
    "    res_xyz = ( np.einsum('x,y,z->xyz', res_x, res_x, res_x) + res_xy + res_xz + res_yz ) * res_xyz\n",
    "\n",
    "plt.imshow(res_xyz[:,:,0]) # 切片展示\n",
    "plt.show()\n",
    "# 三维图形优化"
   ]
  },
  {
   "cell_type": "code",
   "execution_count": null,
   "metadata": {},
   "outputs": [],
   "source": [
    "import torch\n",
    "import einops\n",
    "\n",
    "fr = 0.001\n",
    "start = 0\n",
    "stop = int(1 / fr)\n",
    "level = 5\n",
    "x = torch.arange(stop)\n",
    "x.to('cuda:0')\n",
    "\n",
    "cur_x = x * fr\n",
    "res_x = None\n",
    "res_xyz = 1\n",
    "\n",
    "import matplotlib.pyplot as plt\n",
    "\n",
    "for i in range(level):\n",
    "    res_x = (cur_x * 3).int()\n",
    "    cur_x = cur_x * 3 - res_x\n",
    "\n",
    "    res_x = res_x - 1\n",
    "    res_x[res_x != 0] = 1\n",
    "    res_xy = torch.einsum('x,y,z->xyz', res_x, res_x, 1 - res_x)\n",
    "    res_xz = einops.rearrange(res_xy, 'x y z->x z y')\n",
    "    res_yz = einops.rearrange(res_xy, 'x y z->z x y')\n",
    "    res_xyz = ( torch.einsum('x,y,z->xyz', res_x, res_x, res_x) + res_xy + res_xz + res_yz ) * res_xyz\n",
    "\n",
    "res_xyz.to('cpu')\n",
    "plt.imshow(res_xyz[:,:,0])\n",
    "plt.show()\n",
    "# torch的GPU方案"
   ]
  }
 ],
 "metadata": {
  "kernelspec": {
   "display_name": "base",
   "language": "python",
   "name": "python3"
  },
  "language_info": {
   "name": "python",
   "version": "3.11.5"
  }
 },
 "nbformat": 4,
 "nbformat_minor": 2
}
