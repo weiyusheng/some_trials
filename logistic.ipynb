{
 "cells": [
  {
   "cell_type": "markdown",
   "metadata": {},
   "source": [
    "# logistic差分方程"
   ]
  },
  {
   "cell_type": "code",
   "execution_count": null,
   "metadata": {
    "vscode": {
     "languageId": "bat"
    }
   },
   "outputs": [],
   "source": [
    "`pip install matplotlib"
   ]
  },
  {
   "cell_type": "code",
   "execution_count": null,
   "metadata": {},
   "outputs": [],
   "source": [
    "import random\n",
    "import matplotlib.pyplot as plt\n",
    "\n",
    "def logistic(x, k, round_num = 10): # logistic差分方程\n",
    "    return round(k*x*(1-x), round_num) # + (random.random() - 0.5) / 100 # 随机扰动\n",
    "\n",
    "def step(start, end, fr):\n",
    "    while start < end:\n",
    "        yield start\n",
    "        start = start + fr\n",
    "\n",
    "down = 9000 # 从down次开始画点\n",
    "up = 10000 # 计算到up次结束\n",
    "fr = 0.01 # 采样率\n",
    "k_s = 2.5 # 起始点\n",
    "k_e = 5.0 # 终止点\n",
    "\n",
    "round_up = 5 # 近似保留位数上界\n",
    "round_down = 1 # 近似保留位数下界\n",
    "\n",
    "# 个人观点，logistic差分方程的分叉点和周期与保留位数有关，即受有限字长效应影响\n",
    "# 猜测在理想计算机上（计算位数为无限时）logistic差分方程不表现混沌特性，仅为猜测，并没有任何证据\n",
    "for round_num in step(round_down, round_up, 1): # 每个近似位数画一张图\n",
    "    cache_x = []\n",
    "    cache_y = []\n",
    "    for k in step(k_s, k_e, fr): # 横轴迭代\n",
    "        cur = 0.5\n",
    "        for j in range(up): # 差分方程迭代\n",
    "            res = logistic(cur, k, round_num)\n",
    "            cur = res\n",
    "            if j > down:\n",
    "                cache_x.append(k)\n",
    "                cache_y.append(res)\n",
    "    plt.scatter(cache_x, cache_y, s=1)\n",
    "    plt.show()\n",
    "    plt.close()"
   ]
  }
 ],
 "metadata": {
  "language_info": {
   "name": "python"
  }
 },
 "nbformat": 4,
 "nbformat_minor": 2
}
